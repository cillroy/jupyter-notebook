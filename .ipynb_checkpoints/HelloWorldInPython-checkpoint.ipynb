{
  "cells": [
    {
      "metadata": {
        "collapsed": true
      },
      "cell_type": "markdown",
      "source": "# Hello World in Python"
    },
    {
      "metadata": {
        "trusted": true
      },
      "cell_type": "code",
      "source": "from datetime import datetime\n\nnow = datetime.now()\nmsg = \"Hello, Azure Notebooks! Today is %s\"  % now.strftime(\"%A, %d %B, %Y\")\nprint(msg)",
      "execution_count": 1,
      "outputs": [
        {
          "output_type": "stream",
          "text": "Hello, Azure Notebooks! Today is Thursday, 03 January, 2019\n",
          "name": "stdout"
        }
      ]
    },
    {
      "metadata": {
        "trusted": true
      },
      "cell_type": "code",
      "source": "",
      "execution_count": null,
      "outputs": []
    }
  ],
  "metadata": {
    "kernelspec": {
      "name": "python36",
      "display_name": "Python 3.6",
      "language": "python"
    },
    "language_info": {
      "mimetype": "text/x-python",
      "nbconvert_exporter": "python",
      "name": "python",
      "pygments_lexer": "ipython3",
      "version": "3.6.6",
      "file_extension": ".py",
      "codemirror_mode": {
        "version": 3,
        "name": "ipython"
      }
    }
  },
  "nbformat": 4,
  "nbformat_minor": 2
}