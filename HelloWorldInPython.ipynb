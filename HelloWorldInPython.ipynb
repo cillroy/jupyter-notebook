{
  "cells": [
    {
      "cell_type": "code",
      "execution_count": null,
      "metadata": {
        "trusted": true,
        "name": "import"
      },
      "outputs": [],
      "source": [
        "import azureml.core\n",
        "print(azureml.core.VERSION)"
      ]
    },
    {
      "metadata": {
        "trusted": true,
      },
      "cell_type": "code",
      "source": "from datetime import datetime\n\nnow = datetime.now()\nmsg = \"Hello, Azure Notebooks! Today is %s\"  % now.strftime(\"%A, %d %B, %Y\")\nprint(msg)",
      "execution_count": 2,
      "outputs": [
        {
          "output_type": "stream",
          "text": "Hello, Azure Notebooks! Today is Monday, 03 February, 2020\n",
          "name": "stdout"
        }
      ]
    },
    {
      "metadata": {
        "trusted": true
      },
      "cell_type": "code",
      "source": "",
      "execution_count": null,
      "outputs": []
    }
  ],
  "metadata": {
    "kernelspec": {
      "name": "python36",
      "display_name": "Python 3.6",
      "language": "python"
    },
    "language_info": {
      "mimetype": "text/x-python",
      "nbconvert_exporter": "python",
      "name": "python",
      "pygments_lexer": "ipython3",
      "version": "3.6.6",
      "file_extension": ".py",
      "codemirror_mode": {
        "version": 3,
        "name": "ipython"
      }
    },
    "celltoolbar": "Raw Cell Format"
  },
  "nbformat": 4,
  "nbformat_minor": 2
}